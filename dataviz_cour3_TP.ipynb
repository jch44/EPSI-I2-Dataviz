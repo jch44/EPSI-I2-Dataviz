{
 "cells": [
  {
   "cell_type": "markdown",
   "source": [
    "# TP Reduction des dimensions et Visualisation 3D"
   ],
   "metadata": {}
  },
  {
   "cell_type": "code",
   "execution_count": null,
   "source": [
    "!pip install plotly==5.2.2"
   ],
   "outputs": [],
   "metadata": {}
  },
  {
   "cell_type": "code",
   "execution_count": null,
   "source": [
    "import numpy as np\r\n",
    "import pandas as pd\r\n",
    "\r\n",
    "# Affichage complet des dataframes\r\n",
    "pd.set_option('display.max_columns',100)\r\n",
    "pd.set_option('display.max_rows',1000)\r\n",
    "\r\n",
    "# Librairie graphique plotly\r\n",
    "import plotly.graph_objs as go"
   ],
   "outputs": [],
   "metadata": {}
  },
  {
   "cell_type": "markdown",
   "source": [
    "## Data Preparation"
   ],
   "metadata": {}
  },
  {
   "cell_type": "code",
   "execution_count": null,
   "source": [
    "#Adaper le chemin des données selon vos besoins\r\n",
    "players=pd.read_csv(\"data/fifa21.csv\")\r\n",
    "players.shape"
   ],
   "outputs": [],
   "metadata": {}
  },
  {
   "cell_type": "markdown",
   "source": [
    "1.1 Ne garder que les joueurs dont le poste ('Position') est définie et dont le score total ('OVA') est supérieur ou égal à 75."
   ],
   "metadata": {}
  },
  {
   "cell_type": "code",
   "execution_count": null,
   "source": [],
   "outputs": [],
   "metadata": {}
  },
  {
   "cell_type": "markdown",
   "source": [
    "1.2 : Créer une colonne type_poste regroupant les postes (colonne \"Position\") dans un type \"attaquants\",\"milieux\",\"defenseurs\" ou \"gardiens\"\r\n",
    "Si un joueur occupe plusieurs postes, prendre le premier cité en utilisant la fonction split."
   ],
   "metadata": {}
  },
  {
   "cell_type": "code",
   "execution_count": null,
   "source": [
    "attaquants=['RF', 'ST', 'LW', 'LF', 'RS', 'LS', 'RM', 'LM','RW']\r\n",
    "milieux=['RCM','LCM','LDM','CAM','CDM','LAM','RDM','CM','RAM','CF']\r\n",
    "defenseurs=['RCB','CB','LCB','LB','RB','RWB','LWB']\r\n",
    "gardiens=['GK']\r\n"
   ],
   "outputs": [],
   "metadata": {}
  },
  {
   "cell_type": "markdown",
   "source": [
    "1.2b (optionnel): En utlisant la colonne OVA (Overall Rating), afficher le meilleur joueur pour chaque type de poste."
   ],
   "metadata": {}
  },
  {
   "cell_type": "code",
   "execution_count": null,
   "source": [],
   "outputs": [],
   "metadata": {}
  },
  {
   "cell_type": "markdown",
   "source": [
    "## 2. T-SNE\r\n",
    "2.1 Créer un nouveau dataframe extrait de celui que vous venez de contruire avec seulement les colonnes représentant les compétences des joueurs\r\n",
    "<br>Astuce : Penser à traiter les valeurs NaN, en leur attribuant par exemple la valeur 50."
   ],
   "metadata": {}
  },
  {
   "cell_type": "code",
   "execution_count": null,
   "source": [
    "skills_ratings = ['Crossing', 'Finishing', 'Heading Accuracy', 'Short Passing', 'Volleys', 'Dribbling', 'Curve', 'FK Accuracy', 'Long Passing', 'Ball Control',\r\n",
    "                   'Movement', 'Acceleration', 'Sprint Speed', 'Agility', 'Reactions', 'Balance', 'Power', 'Shot Power', 'Jumping', 'Stamina', 'Strength', 'Long Shots',\r\n",
    "                   'Mentality', 'Aggression', 'Interceptions', 'Positioning', 'Vision', 'Penalties', 'Composure', 'Marking', 'Standing Tackle', 'Sliding Tackle', 'GK Diving',\r\n",
    "                   'GK Handling', 'GK Kicking', 'GK Positioning', 'GK Reflexes']"
   ],
   "outputs": [],
   "metadata": {}
  },
  {
   "cell_type": "markdown",
   "source": [
    "2.2 Exécuter une transformation T_SNE  pour obtenir 3 composantes par joueur.\r\n",
    "<br> Vous pouvez essayer plusieurs valeurs pour la perplexité et le nombre d'itération"
   ],
   "metadata": {}
  },
  {
   "cell_type": "code",
   "execution_count": null,
   "source": [],
   "outputs": [],
   "metadata": {}
  },
  {
   "cell_type": "markdown",
   "source": [
    "2.3 Créer des filtres booléens par type de poste, puis sur les meilleurs joueurs (OVA au dessus de 90).<br>Astuce : Vous pouvez utiliser le dataframe de la partie 1 pour définir les filtres."
   ],
   "metadata": {}
  },
  {
   "cell_type": "code",
   "execution_count": null,
   "source": [],
   "outputs": [],
   "metadata": {}
  },
  {
   "cell_type": "markdown",
   "source": [
    "2.4 Creer dans un même graphique 4 nuages de points en 3D correspondant aux attaquants, milieux, défenseurs et gardiens"
   ],
   "metadata": {}
  },
  {
   "cell_type": "code",
   "execution_count": null,
   "source": [],
   "outputs": [],
   "metadata": {}
  },
  {
   "cell_type": "markdown",
   "source": [
    "2.5 Retirer, les gardiens. En jouant avec les propriétés \"text\" et \"mode\" sur la trace, Afficher dans le graphique les noms des meilleurs joueurs"
   ],
   "metadata": {}
  },
  {
   "cell_type": "code",
   "execution_count": null,
   "source": [],
   "outputs": [],
   "metadata": {}
  },
  {
   "cell_type": "markdown",
   "source": [
    "## 3. ACP + Clustering"
   ],
   "metadata": {}
  },
  {
   "cell_type": "markdown",
   "source": [
    "3.1 Ajouter au dataframe de la partie 1 un joueur \"Parfait\" (tous les ratings à 99). Recreer le dataframe des compétences."
   ],
   "metadata": {}
  },
  {
   "cell_type": "code",
   "execution_count": null,
   "source": [],
   "outputs": [],
   "metadata": {}
  },
  {
   "cell_type": "markdown",
   "source": [
    "3.2 Créer une division des joueurs en 5 clusters. Afficher le cluster (propriété \"labels_\") de chaque joueur"
   ],
   "metadata": {}
  },
  {
   "cell_type": "code",
   "execution_count": null,
   "source": [],
   "outputs": [],
   "metadata": {}
  },
  {
   "cell_type": "markdown",
   "source": [
    "3.3 Créer une projection PCA 3D des joueux suivant leurs compétences.\r\n",
    "Quelle est le % de variance expliquée par ces 3 dimensions ?"
   ],
   "metadata": {}
  },
  {
   "cell_type": "code",
   "execution_count": null,
   "source": [],
   "outputs": [],
   "metadata": {}
  },
  {
   "cell_type": "markdown",
   "source": [
    "3.4 Afficher les clusters en couleurs sur la représentation PCA en 3D des joueurs. \r\n",
    "Ajouter un label pour les meilleurs joueurs (OVA au dessus de 90)"
   ],
   "metadata": {}
  },
  {
   "cell_type": "code",
   "execution_count": null,
   "source": [],
   "outputs": [],
   "metadata": {}
  },
  {
   "cell_type": "markdown",
   "source": [
    "3.5(Optionnel) : Créer une visualisation dynamique permettant de choisir 2 équipes et de les comparer."
   ],
   "metadata": {}
  },
  {
   "cell_type": "code",
   "execution_count": null,
   "source": [],
   "outputs": [],
   "metadata": {}
  }
 ],
 "metadata": {
  "kernelspec": {
   "name": "python3",
   "display_name": "Python 3.9.6 64-bit"
  },
  "language_info": {
   "codemirror_mode": {
    "name": "ipython",
    "version": 3
   },
   "file_extension": ".py",
   "mimetype": "text/x-python",
   "name": "python",
   "nbconvert_exporter": "python",
   "pygments_lexer": "ipython3",
   "version": "3.9.6"
  },
  "interpreter": {
   "hash": "0d008810b9c8467bcb3ca39aa2180e5b81b3a9acb136aab30d47954377cc5120"
  }
 },
 "nbformat": 4,
 "nbformat_minor": 4
}