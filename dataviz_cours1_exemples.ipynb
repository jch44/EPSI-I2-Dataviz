{
  "nbformat": 4,
  "nbformat_minor": 0,
  "metadata": {
    "colab": {
      "name": "dataviz_cours1_exemples.ipynb",
      "provenance": [],
      "collapsed_sections": []
    },
    "kernelspec": {
      "name": "python3",
      "display_name": "Python 3"
    },
    "language_info": {
      "name": "python"
    }
  },
  "cells": [
    {
      "cell_type": "code",
      "metadata": {
        "id": "xYyvq1mFGz_1"
      },
      "source": [
        "!pip install plotly==5.2.2"
      ],
      "execution_count": null,
      "outputs": []
    },
    {
      "cell_type": "markdown",
      "metadata": {
        "id": "WNHMhTGtqwe8"
      },
      "source": [
        "##Syntaxe de base plotly"
      ]
    },
    {
      "cell_type": "code",
      "metadata": {
        "id": "WsA8n5NKq540"
      },
      "source": [
        "import plotly.express as px\n",
        "\n",
        "df_iris = px.data.iris().sort_values('sepal_width') #Données embarquée (ici Iris)\n",
        "df_setosa = df_iris.query(\"species == 'setosa'\")\n",
        "df_setosa.sample(5)"
      ],
      "execution_count": null,
      "outputs": []
    },
    {
      "cell_type": "code",
      "metadata": {
        "id": "beoaWNI5rJpM"
      },
      "source": [
        "fig = px.line(df_setosa.reset_index(),y='sepal_width',title='Largeur sépale setosa')\n",
        "fig.update_xaxes(title_text=\"Iris Setosa (par largeur de sépale)\")"
      ],
      "execution_count": null,
      "outputs": []
    },
    {
      "cell_type": "markdown",
      "metadata": {
        "id": "WidZdMR2wJuN"
      },
      "source": [
        "## Types Data et facets"
      ]
    },
    {
      "cell_type": "code",
      "metadata": {
        "id": "gffUr-8zw-BE"
      },
      "source": [
        "import pandas as pd\n",
        "df_4long = df_iris.copy()\n",
        "df_4long.columns = ['length_sepal', 'width_sepal', 'length_petal', 'width_petal', 'species','species_id']\n",
        "df_4long['id']=df_4long.index\n",
        "df_iris_lg = pd.wide_to_long(df_4long,['length','width'],i='id',j='partie_fleur',sep='_',suffix='\\w+')\n",
        "df_iris_lg.reset_index(inplace=True)\n",
        "df_iris_lg.sample(10)"
      ],
      "execution_count": null,
      "outputs": []
    },
    {
      "cell_type": "code",
      "metadata": {
        "id": "30r2ntBU8Lw1"
      },
      "source": [
        "#Long Data\n",
        "px.bar(df_iris_lg, x='id', y = 'width', color = 'partie_fleur',barmode='group',facet_col='species',category_orders={\"species\": [\"setosa\", \"versicolor\", \"virginica\"]})"
      ],
      "execution_count": null,
      "outputs": []
    },
    {
      "cell_type": "code",
      "metadata": {
        "id": "drfROsVfD7Vf"
      },
      "source": [
        "#Wide Data\n",
        "df_iris['id']=df_iris.index\n",
        "fig = px.bar(df_iris,x='id', y = ['sepal_width','petal_width'],barmode='group', facet_col='species',category_orders={\"species\": [\"setosa\", \"versicolor\", \"virginica\"]})\n",
        "fig.show()"
      ],
      "execution_count": null,
      "outputs": []
    },
    {
      "cell_type": "markdown",
      "metadata": {
        "id": "TeAjcKQ8gy0W"
      },
      "source": [
        "### objets data et Layout"
      ]
    },
    {
      "cell_type": "code",
      "metadata": {
        "id": "Cnrf6MUWRUfw"
      },
      "source": [
        "fig = px.line(df_setosa,y='sepal_width',title='Largeur sépale setosa')\n",
        "print(fig.data)\n",
        "print('-------------------')\n",
        "print(fig.layout)"
      ],
      "execution_count": null,
      "outputs": []
    }
  ]
}