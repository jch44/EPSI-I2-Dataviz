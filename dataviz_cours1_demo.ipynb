{
  "nbformat": 4,
  "nbformat_minor": 0,
  "metadata": {
    "_change_revision": 0,
    "_is_fork": false,
    "kernelspec": {
      "display_name": "Python 3",
      "language": "python",
      "name": "python3"
    },
    "language_info": {
      "codemirror_mode": {
        "name": "ipython",
        "version": 3
      },
      "file_extension": ".py",
      "mimetype": "text/x-python",
      "name": "python",
      "nbconvert_exporter": "python",
      "pygments_lexer": "ipython3",
      "version": "3.7.4-final"
    },
    "colab": {
      "name": "dataviz_cours1_demo.ipynb",
      "provenance": [],
      "collapsed_sections": []
    }
  },
  "cells": [
    {
      "cell_type": "code",
      "metadata": {
        "id": "1dOr4AgkmAW_"
      },
      "source": [
        "!pip install plotly==5.2.2"
      ],
      "execution_count": null,
      "outputs": []
    },
    {
      "cell_type": "markdown",
      "metadata": {
        "id": "ANNNSyTt-9cO"
      },
      "source": [
        "## Import des librairies ##"
      ]
    },
    {
      "cell_type": "code",
      "metadata": {
        "id": "bst2_m1l-9cQ"
      },
      "source": [
        "#Imports librairies de base\n",
        "import numpy as np\n",
        "import pandas as pd\n",
        "\n",
        "#Bibliothèques pour Cross validation\n",
        "\n",
        "#Affichage de HTML\n",
        "from IPython.display import display, HTML\n",
        "import plotly.graph_objects as go\n",
        "import plotly.express as px"
      ],
      "execution_count": null,
      "outputs": []
    },
    {
      "cell_type": "code",
      "metadata": {
        "id": "ItCbEsXx_PRu"
      },
      "source": [
        "from google.colab import drive\n",
        "drive.mount('/content/drive')"
      ],
      "execution_count": null,
      "outputs": []
    },
    {
      "cell_type": "markdown",
      "metadata": {
        "_cell_guid": "25b1e1db-8bc5-7029-f719-91da523bd121",
        "_uuid": "5c867fcbb300bcf3c9b8986bba9949da2a2df931",
        "id": "0O8OHL1z-9cT"
      },
      "source": [
        "## 1. Lecture des données ##"
      ]
    },
    {
      "cell_type": "markdown",
      "metadata": {
        "id": "Nqg9tWum-9cU"
      },
      "source": [
        "Chargement et affichage des données d'apprentissage (Data/passagers.csv) dans un DataFrame nommé train."
      ]
    },
    {
      "cell_type": "code",
      "metadata": {
        "id": "MLjHr7Ky-9cV"
      },
      "source": [
        "#Lecture du fichier passagers avec label \"Survived\", pour le training\n",
        "train = pd.read_csv('drive/My Drive/EPSI/Data/passagers.csv')\n",
        "train.sample(10)"
      ],
      "execution_count": null,
      "outputs": []
    },
    {
      "cell_type": "markdown",
      "metadata": {
        "id": "jEjT1g4V-9cc"
      },
      "source": [
        "*Informations des deux DataFrames train et Test."
      ]
    },
    {
      "cell_type": "code",
      "metadata": {
        "id": "Nl4awxns-9cd"
      },
      "source": [
        "# Infos sur train\n",
        "display(HTML('<span style=\"color:blue;font-weight:bold\">train :</span>'))\n",
        "train.info()"
      ],
      "execution_count": null,
      "outputs": []
    },
    {
      "cell_type": "markdown",
      "metadata": {
        "_cell_guid": "f9595646-65c9-6fc4-395f-0befc4d122ce",
        "_uuid": "66273d64a2548d7a88464ab2a73dbdedfbdc488b",
        "id": "uWVPxp0m-9cl"
      },
      "source": [
        "## 2. Analyse des features"
      ]
    },
    {
      "cell_type": "markdown",
      "metadata": {
        "id": "IToPF7iGMd0r"
      },
      "source": [
        "### Analyse unidimensionnelle Age"
      ]
    },
    {
      "cell_type": "code",
      "metadata": {
        "id": "-pYmy-xnM5mq"
      },
      "source": [
        "fig = px.box(train, x=\"Age\",orientation='h')\n",
        "fig.show() \n"
      ],
      "execution_count": null,
      "outputs": []
    },
    {
      "cell_type": "code",
      "metadata": {
        "id": "sCyB3ZDDX2-a"
      },
      "source": [
        "x_data = ['1ère Classe', '2ème Classe','3ème Classe']\n",
        "\n",
        "\n",
        "y_data = []\n",
        "for c in range(3):\n",
        "  y_data.append(train.query(f\"Pclass=={c+1}\").Age)\n",
        "\n",
        "colors = ['rgba(93, 164, 214, 0.5)', 'rgba(255, 144, 14, 0.5)', 'rgba(44, 160, 101, 0.5)']\n",
        "\n",
        "fig = go.Figure()\n",
        "\n",
        "for classe, age, couleur in zip(x_data, y_data, colors):\n",
        "        fig.add_trace(go.Box(\n",
        "            y=age,\n",
        "            name=classe,\n",
        "            boxpoints='all', # Montrer tous les points\n",
        "            jitter=0.3,      # épaisseur représentation des points\n",
        "            whiskerwidth=0.2,# épaisseur des traits\n",
        "            fillcolor=couleur,\n",
        "            marker_size=2,\n",
        "            line_width=1)\n",
        "        )\n",
        "\n",
        "fig.update_layout(\n",
        "    title='Age des passagers par Classe',\n",
        "    yaxis=dict(\n",
        "        autorange=True, # Valeurs de l'axe en fonction des données\n",
        "        showgrid=True,  # Affichage de la grille\n",
        "        dtick=5,        # Précision Axe\n",
        "        gridcolor='rgb(255, 255, 255)', # Couleur Grille\n",
        "        gridwidth=2,                    # Taille Grille\n",
        "    )\n",
        ")\n",
        "\n",
        "fig.show()"
      ],
      "execution_count": null,
      "outputs": []
    },
    {
      "cell_type": "markdown",
      "metadata": {
        "id": "g-XXt4PX92Yw"
      },
      "source": [
        "### Distribution de l'age et Normale"
      ]
    },
    {
      "cell_type": "code",
      "metadata": {
        "id": "QlatASwCnMNv"
      },
      "source": [
        "import plotly.figure_factory as ff # Utilisation de la méthode create_distplot\n",
        "\n",
        "ages = train[~np.isnan(train.Age)].Age # Les valeurs inconnues (NaN sont éliminées)\n",
        "hist_data = [ages]\n",
        "fig = ff.create_distplot(hist_data, ['Distribution Age'], curve_type='normal', bin_size=5) # Distribution par tranche de 5 ans\n",
        "fig.show()"
      ],
      "execution_count": null,
      "outputs": []
    },
    {
      "cell_type": "markdown",
      "metadata": {
        "_cell_guid": "9b4c278b-aaca-e92c-ba77-b9b48379d1f1",
        "_uuid": "c2b62e14d493c270ec8df9f3af1938c479361ef3",
        "id": "O8u9CYjA-9cl"
      },
      "source": [
        "### Effet de la Classe"
      ]
    },
    {
      "cell_type": "code",
      "metadata": {
        "id": "58vOOvW2-9cm"
      },
      "source": [
        "display(HTML('<span style=\"color:blue;font-weight:bold\">Effet de la classe</span>'))\n",
        "agg_classe = train[['Pclass', 'Survived']].groupby(['Pclass'])\n",
        "effet_classe = pd.concat([agg_classe.count(),agg_classe.sum(),agg_classe.mean()],axis=1)\n",
        "effet_classe.columns = ['nb_passagers','nb_survivants','taux_survie']\n",
        "\n",
        "effet_classe"
      ],
      "execution_count": null,
      "outputs": []
    },
    {
      "cell_type": "code",
      "metadata": {
        "id": "EOPTWeGOhOI2"
      },
      "source": [
        "# Utilisation de Plotly Express\n",
        "libelles=['1ère Classe','2ème Classe','3ème Classe']\n",
        "\n",
        "figpiepop = px.pie(effet_classe, values='nb_passagers', names=libelles, color =libelles, title='Répartition des passagers')\n",
        "figpiepop.update_traces(textposition='inside', textinfo='percent+value+label')\n",
        "figpiepop.show()\n",
        "figpieresc = px.pie(effet_classe, values='nb_survivants', names=libelles, color =libelles, title='Répartition des survivants')\n",
        "figpieresc.update_traces(textposition='inside', textinfo='percent+value+label')\n",
        "figpieresc.show()\n",
        "figbarsurvie = px.bar(effet_classe, x=libelles,y='taux_survie', labels={\"x\":\"Classe\", \"taux_survie\" :\"Taux de Survie\"},\n",
        "                      title='Taux de survie', text=round(effet_classe.taux_survie*100,2))\n",
        "figbarsurvie.show()"
      ],
      "execution_count": null,
      "outputs": []
    },
    {
      "cell_type": "code",
      "metadata": {
        "id": "pPNLS04HTz6c"
      },
      "source": [
        "# Utilisation de plotly.graph_objects\n",
        "from plotly.subplots import make_subplots\n",
        "\n",
        "fig = make_subplots(\n",
        "    rows=2, cols=2,\n",
        "    specs=[[{\"type\": \"pie\"}, {\"type\": \"pie\"}],[{\"type\": \"bar\", \"colspan\": 2}, None]],\n",
        "    subplot_titles=(\"Répartition des passagers\", \"Répartition des survivants\", \"Taux de survie\")\n",
        "  )\n",
        "\n",
        "fig.add_trace(\n",
        "    go.Pie(labels=libelles, values=effet_classe.nb_passagers.values),\n",
        "    row=1, col=1\n",
        ")\n",
        "\n",
        "fig.add_trace(\n",
        "    go.Pie(labels=libelles, values=effet_classe.nb_survivants.values),\n",
        "    row=1, col=2\n",
        ")\n",
        "\n",
        "fig.add_trace(\n",
        "    go.Bar(x=libelles, y=effet_classe.taux_survie.values, showlegend=False,\n",
        "           text=np.round(effet_classe.taux_survie.values*100,2).astype('str'),\n",
        "           textposition='auto'),\n",
        "    row=2, col=1\n",
        ")\n",
        "\n",
        "fig.update_layout(height=900, width=1000, title_text=\"Comparaison des classes dans le Titanic\")\n",
        "fig.update_traces(textposition='inside', textinfo='percent+value+label',selector={\"type\":\"pie\"})\n",
        "fig.show()"
      ],
      "execution_count": null,
      "outputs": []
    },
    {
      "cell_type": "markdown",
      "metadata": {
        "id": "I14HvMa2ZYd-"
      },
      "source": [
        "## Analyse bidimensionnelle Iris"
      ]
    },
    {
      "cell_type": "code",
      "metadata": {
        "id": "qBm-UR1JJq_t"
      },
      "source": [
        "df_iris = px.data.iris()\n",
        "df_setosa = df_iris.query(\"species == 'setosa'\")\n",
        "# df_setosa[id] = df_setosa.index\n",
        "df_setosa_orderby_sepal_width = df_setosa.sort_values('sepal_width').reset_index()\n",
        "df_setosa_orderby_sepal_width['index'] = df_setosa_orderby_sepal_width.index\n",
        "px.line(df_setosa_orderby_sepal_width,\n",
        "              x='index', \n",
        "              y=['sepal_width','sepal_length'],\n",
        "              title='Largeur / Longueur sépale setosa',\n",
        "              labels={'index':\"N° Iris\"  ,'value':'Largeur'}\n",
        "              )"
      ],
      "execution_count": null,
      "outputs": []
    },
    {
      "cell_type": "markdown",
      "metadata": {
        "id": "ybK8rNbXsx6o"
      },
      "source": [
        "### Animation"
      ]
    },
    {
      "cell_type": "code",
      "metadata": {
        "id": "oWQg7RCKs1BP"
      },
      "source": [
        "tab_setosa_frames = []\n",
        "for y in df_setosa_orderby_sepal_width[\"index\"].unique():\n",
        "    df = df_setosa_orderby_sepal_width[df_setosa_orderby_sepal_width[\"index\"]<=y]\n",
        "    df[\"frame\"] = y\n",
        "    tab_setosa_frames.append(df)\n",
        "df_setosa_animation = pd.concat(tab_setosa_frames)\n",
        "df_setosa_animation"
      ],
      "execution_count": null,
      "outputs": []
    },
    {
      "cell_type": "code",
      "metadata": {
        "id": "lO1WRZ_Xv4Ew"
      },
      "source": [
        "px.line(df_setosa_animation,\n",
        "        x='index', \n",
        "        y=['sepal_width','sepal_length'],\n",
        "        title='Largeur / Longueur sépale setosa',\n",
        "        labels={'index':\"N° Iris\"  ,'value':'Largeur'},\n",
        "        range_x=[0, 49], # ranges nécessaires car le graphique est d'abord affiché sans données\n",
        "        range_y=[0, 6],\n",
        "        animation_frame='frame'\n",
        "        )"
      ],
      "execution_count": null,
      "outputs": []
    },
    {
      "cell_type": "markdown",
      "metadata": {
        "id": "0x6O99Cis1Zg"
      },
      "source": [
        "### Scatter Plot"
      ]
    },
    {
      "cell_type": "code",
      "metadata": {
        "id": "zAvzIQUts_w5"
      },
      "source": [
        "fig_basic=px.scatter(df_setosa, x=\"sepal_width\", y=\"sepal_length\",template ='plotly_white' )\n",
        "fig_basic.show()"
      ],
      "execution_count": null,
      "outputs": []
    },
    {
      "cell_type": "markdown",
      "metadata": {
        "id": "qRfiw6QhtRNn"
      },
      "source": [
        "#### Identification de la tendance avec un bar Chart"
      ]
    },
    {
      "cell_type": "code",
      "metadata": {
        "id": "WcE7vMqKKyhe"
      },
      "source": [
        "# Identification de la tendance avec un bar Chart\n",
        "df_setosa['categ_sepal_width'] = pd.cut(df_setosa['sepal_width'],5)\n",
        "df_groupby = df_setosa.groupby(['categ_sepal_width']).mean()\n",
        "fig = px.bar(\n",
        "    df_groupby,\n",
        "    x=df_groupby.index.astype('str'),\n",
        "    y='sepal_length',\n",
        "    labels={'x':\"Intervale Largeur Sépale\"  ,'sepal_length':'Longeur Sépale'}\n",
        "    )\n",
        "fig.show()"
      ],
      "execution_count": null,
      "outputs": []
    },
    {
      "cell_type": "markdown",
      "metadata": {
        "id": "dMJRok-b1SNn"
      },
      "source": [
        "#### Superposition de graphes (violin)"
      ]
    },
    {
      "cell_type": "code",
      "metadata": {
        "id": "opemNGx-1kBf"
      },
      "source": [
        "fig_basic=px.scatter(df_setosa, x=\"sepal_width\", y=\"sepal_length\",template ='plotly_white' )\n",
        "fig_violin=px.violin(df_setosa, x=\"sepal_width\", y=\"sepal_length\",template ='ggplot2' )\n",
        "fig_basic.add_trace(fig_violin.data[0])\n",
        "fig_basic.show()"
      ],
      "execution_count": null,
      "outputs": []
    },
    {
      "cell_type": "markdown",
      "metadata": {
        "id": "DQs3fQx3tKC2"
      },
      "source": [
        "#### Identification de la tendance avec une Trend Line"
      ]
    },
    {
      "cell_type": "code",
      "metadata": {
        "id": "SwudF_5BFlHG"
      },
      "source": [
        "def get_trendline_info(results):   \n",
        "  ligne_resultat_r2 = results.px_fit_results.iloc[0].summary().tables[0][1]\n",
        "  print(ligne_resultat_r2[2].data,':',ligne_resultat_r2 [3].data)\n",
        "  tab_coefs = results.px_fit_results.iloc[0].summary().tables[1]\n",
        "  print(f'y = {tab_coefs[2][1].data}x    + {tab_coefs[1][1].data}')"
      ],
      "execution_count": null,
      "outputs": []
    },
    {
      "cell_type": "code",
      "metadata": {
        "id": "ZQlNnxOclbOo"
      },
      "source": [
        "fig = px.scatter(df_setosa, x=\"sepal_width\", y=\"sepal_length\", trendline=\"ols\") # Ordinary Least Squares (OLS)\n",
        "fig.show()\n",
        "results = px.get_trendline_results(fig)\n",
        "#print(results.px_fit_results.iloc[0].summary())\n",
        "get_trendline_info(results)"
      ],
      "execution_count": null,
      "outputs": []
    },
    {
      "cell_type": "code",
      "metadata": {
        "id": "NSkCFORTm-J4"
      },
      "source": [
        "fig = px.scatter(df_iris, x=\"sepal_width\", y=\"sepal_length\", color=\"species\", marginal_y=\"violin\",\n",
        "           marginal_x=\"box\", trendline=\"ols\", template=\"simple_white\")\n",
        "fig.show()\n",
        "\n",
        "results = px.get_trendline_results(fig)\n",
        "for specie in df_iris.species.unique():\n",
        "  print(f'----------------\\n    {specie}\\n----------------')\n",
        "  get_trendline_info(results.query(f\"species == '{specie}'\"))  "
      ],
      "execution_count": null,
      "outputs": []
    }
  ]
}