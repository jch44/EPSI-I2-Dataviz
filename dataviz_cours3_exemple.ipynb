{
 "cells": [
  {
   "cell_type": "markdown",
   "source": [
    "\r\n",
    "# Exemple ACP et t-SNE\r\n",
    "\r\n",
    "Analyse en Composantes Principales et T-NSE appliqué aux dataset des Iris.\r\n"
   ],
   "metadata": {}
  },
  {
   "cell_type": "code",
   "execution_count": null,
   "source": [
    "import numpy as np\r\n",
    "\r\n",
    "from sklearn import decomposition\r\n",
    "from sklearn import datasets\r\n",
    "\r\n",
    "\r\n",
    "iris = datasets.load_iris()\r\n",
    "X = iris.data\r\n",
    "y = iris.target\r\n",
    "\r\n",
    "X[:10]"
   ],
   "outputs": [],
   "metadata": {}
  },
  {
   "cell_type": "code",
   "execution_count": null,
   "source": [
    "\r\n",
    "pca = decomposition.PCA(n_components=2)\r\n",
    "pca.fit(X)\r\n",
    "X = pca.transform(X)\r\n",
    "print(pca.explained_variance_ratio_)\r\n",
    "print(X[:10])"
   ],
   "outputs": [],
   "metadata": {}
  },
  {
   "cell_type": "code",
   "execution_count": null,
   "source": [
    "filtre_setosa = y==0\r\n",
    "filtre_versicolor = y==1\r\n",
    "filtre_virginica = y==2\r\n",
    "print(filtre_virginica)"
   ],
   "outputs": [],
   "metadata": {}
  },
  {
   "cell_type": "code",
   "execution_count": null,
   "source": [
    "import plotly.graph_objs as go\r\n",
    "\r\n",
    "\r\n",
    "palette = ['navy','red','maroon']\r\n",
    "\r\n",
    "acp_setosa =go.Scatter(x=X[filtre_setosa,0],y=X[filtre_setosa,1],name='Setosa',\r\n",
    "                          text='Setosa',opacity=0.9,\r\n",
    "                          marker=dict(color=palette[0],size=5),mode='markers'\r\n",
    "                        )\r\n",
    "acp_versicolor =go.Scatter(x=X[filtre_versicolor,0],y=X[filtre_versicolor,1],name='Versicolor',\r\n",
    "                          text='Versicolor',opacity=0.9,\r\n",
    "                          marker=dict(color=palette[1],size=5),mode='markers'\r\n",
    "                        )\r\n",
    "acp_virginica =go.Scatter(x=X[filtre_virginica,0],y=X[filtre_virginica,1],name='Virginica',\r\n",
    "                          text='Virginica',opacity=0.9,\r\n",
    "                          marker=dict(color=palette[2],size=5),mode='markers'\r\n",
    "                        )\r\n",
    "\r\n",
    "layout = go.Layout(title=\"PCA - Iris\",titlefont=dict(size=40),autosize=False, width=1000,height=600)\r\n",
    "\r\n",
    "data=[acp_setosa,acp_versicolor,acp_virginica]\r\n",
    "fig = go.Figure(data=data, layout=layout)\r\n",
    "fig.show()"
   ],
   "outputs": [],
   "metadata": {}
  },
  {
   "cell_type": "markdown",
   "source": [
    "## Exemple T-SNE\n",
    "T-SNE appliqué au dataset des Iris."
   ],
   "metadata": {}
  },
  {
   "cell_type": "code",
   "execution_count": null,
   "source": [
    "from sklearn import manifold\r\n",
    "X = iris.data\r\n",
    "tsne = manifold.TSNE(n_components=2, verbose=0,perplexity=10, n_iter=1000)\r\n",
    "X_tsne = tsne.fit_transform(X)"
   ],
   "outputs": [],
   "metadata": {}
  },
  {
   "cell_type": "code",
   "execution_count": null,
   "source": [
    "import plotly.graph_objs as go\r\n",
    "\r\n",
    "palette = ['navy','red','maroon']\r\n",
    "\r\n",
    "acp_setosa =go.Scatter(x=X_tsne[filtre_setosa,0],y=X_tsne[filtre_setosa,1],name='Setosa',\r\n",
    "                          text='Setosa',opacity=0.9,\r\n",
    "                          marker=dict(color=palette[0],size=5),mode='markers'\r\n",
    "                        )\r\n",
    "acp_versicolor =go.Scatter(x=X_tsne[filtre_versicolor,0],y=X_tsne[filtre_versicolor,1],name='Versicolor',\r\n",
    "                          text='Versicolor',opacity=0.9,\r\n",
    "                          marker=dict(color=palette[1],size=5),mode='markers'\r\n",
    "                        )\r\n",
    "acp_virginica =go.Scatter(x=X_tsne[filtre_virginica,0],y=X_tsne[filtre_virginica,1],name='Virginica',\r\n",
    "                          text='Virginica',opacity=0.9,\r\n",
    "                          marker=dict(color=palette[2],size=5),mode='markers'\r\n",
    "                        )\r\n",
    "\r\n",
    "layout = go.Layout(title=\"T-SNE - Iris\",titlefont=dict(size=40),autosize=False, width=1000,height=600)\r\n",
    "\r\n",
    "data=[acp_setosa,acp_versicolor,acp_virginica]\r\n",
    "fig = go.Figure(data=data, layout=layout)\r\n",
    "fig.show()"
   ],
   "outputs": [],
   "metadata": {}
  }
 ],
 "metadata": {
  "kernelspec": {
   "name": "python3",
   "display_name": "Python 3.9.6 64-bit"
  },
  "language_info": {
   "codemirror_mode": {
    "name": "ipython",
    "version": 3
   },
   "file_extension": ".py",
   "mimetype": "text/x-python",
   "name": "python",
   "nbconvert_exporter": "python",
   "pygments_lexer": "ipython3",
   "version": "3.9.6"
  },
  "interpreter": {
   "hash": "0d008810b9c8467bcb3ca39aa2180e5b81b3a9acb136aab30d47954377cc5120"
  }
 },
 "nbformat": 4,
 "nbformat_minor": 2
}